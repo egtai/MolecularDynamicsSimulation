{
 "cells": [
  {
   "cell_type": "code",
   "execution_count": 1,
   "metadata": {},
   "outputs": [],
   "source": [
    "import simulation as sk\n",
    "import matplotlib.pyplot as plt\n",
    "import numpy as np"
   ]
  },
  {
   "cell_type": "code",
   "execution_count": 2,
   "metadata": {},
   "outputs": [],
   "source": [
    "def verlet_simulation(step, steps, sigma, epsilon, mass, temp, desired_temp, box_size, relax_steps):\n",
    "    dm_time = step * (epsilon/(mass*sigma**2))**(1/2)\n",
    "    square = sk.fcc_lattice(2,2,2,1)\n",
    "    vels = sk.init_velocity(len(square), temp, mass)\n",
    "    return sk.vervlet_evolution(pos=square, \n",
    "                                vel=vels, \n",
    "                                time_step=dm_time, \n",
    "                                steps=steps, \n",
    "                                mass=mass, \n",
    "                                sigma=sigma, \n",
    "                                epsilon=epsilon, \n",
    "                                size=box_size, \n",
    "                                temp=temp,\n",
    "                                relaxation_steps=relax_steps, \n",
    "                                desired_temp=desired_temp)"
   ]
  },
  {
   "cell_type": "code",
   "execution_count": 3,
   "metadata": {},
   "outputs": [],
   "source": [
    "def size(n_atoms,rho):\n",
    "    size = (n_atoms/rho)**(1/3)\n",
    "    return size"
   ]
  },
  {
   "cell_type": "code",
   "execution_count": 4,
   "metadata": {},
   "outputs": [
    {
     "data": {
      "text/plain": [
       "4.142976674605145"
      ]
     },
     "execution_count": 4,
     "metadata": {},
     "output_type": "execute_result"
    }
   ],
   "source": [
    "size(32,0.45)"
   ]
  },
  {
   "cell_type": "code",
   "execution_count": 4,
   "metadata": {},
   "outputs": [
    {
     "name": "stdout",
     "output_type": "stream",
     "text": [
      "Initial temperature: 100\n",
      "average_temperature: 534.7167113754793\n",
      "Rescale velocity: 0.03289926645776302\n",
      "average_temperature: 110.74169770304768\n",
      "Rescale velocity: 0.19440261482200824\n",
      "average_temperature: 8.9167358919754\n",
      "Rescale velocity: 0.2622869508037759\n",
      "average_temperature: 5.929437327495134\n",
      "Rescale velocity: 0.31987890636074334\n",
      "average_temperature: 4.4984912180489545\n",
      "Rescale velocity: 0.37198148597593717\n",
      "average_temperature: 3.646559688628262\n",
      "Rescale velocity: 0.4204655371080671\n",
      "average_temperature: 3.0852456036076874\n",
      "Rescale velocity: 0.46569645100119544\n",
      "average_temperature: 2.6909061165196895\n",
      "Rescale velocity: 0.508036010625849\n",
      "average_temperature: 2.4005063552151706\n",
      "Rescale velocity: 0.5477310173620781\n",
      "average_temperature: 2.179062075611602\n",
      "Rescale velocity: 0.5849400793555368\n",
      "average_temperature: 2.005633903371119\n",
      "Rescale velocity: 0.6197803255461715\n",
      "average_temperature: 1.8669093861840007\n",
      "Rescale velocity: 0.652352141574077\n"
     ]
    },
    {
     "name": "stderr",
     "output_type": "stream",
     "text": [
      "/home/juandaanieel/c/TUDelft/AP_master/semester2/CP/project_1/repository/Project-1_compphys_bot_juandaanieel_kwo/examples/simulation/LJ_forces.py:96: RuntimeWarning: divide by zero encountered in true_divide\n",
      "  aux = (1/rel_dist)**6\n",
      "/home/juandaanieel/c/TUDelft/AP_master/semester2/CP/project_1/repository/Project-1_compphys_bot_juandaanieel_kwo/examples/simulation/LJ_forces.py:97: RuntimeWarning: invalid value encountered in subtract\n",
      "  E_pot = 4*(aux**2-aux)\n",
      "/home/juandaanieel/c/TUDelft/AP_master/semester2/CP/project_1/repository/Project-1_compphys_bot_juandaanieel_kwo/examples/simulation/LJ_forces.py:5: RuntimeWarning: invalid value encountered in true_divide\n",
      "  return np.nan_to_num(rel_pos/rel_dist[:,:,None])\n",
      "/home/juandaanieel/c/TUDelft/AP_master/semester2/CP/project_1/repository/Project-1_compphys_bot_juandaanieel_kwo/examples/simulation/LJ_forces.py:124: RuntimeWarning: divide by zero encountered in true_divide\n",
      "  dU_LJ = np.nan_to_num(2*24*rel_dist*(1/rel_dist8 - 2*1/rel_dist14))\n",
      "/home/juandaanieel/c/TUDelft/AP_master/semester2/CP/project_1/repository/Project-1_compphys_bot_juandaanieel_kwo/examples/simulation/LJ_forces.py:124: RuntimeWarning: invalid value encountered in subtract\n",
      "  dU_LJ = np.nan_to_num(2*24*rel_dist*(1/rel_dist8 - 2*1/rel_dist14))\n"
     ]
    },
    {
     "name": "stdout",
     "output_type": "stream",
     "text": [
      "average_temperature: 1.7540246900415424\n",
      "Rescale velocity: 0.6827493228904719\n",
      "average_temperature: 1.6608586602066548\n",
      "Rescale velocity: 0.711063326284765\n",
      "average_temperature: 1.5830549610843971\n",
      "Rescale velocity: 0.7373852832683152\n",
      "average_temperature: 1.5174328325718132\n",
      "Rescale velocity: 0.7618069553307937\n",
      "average_temperature: 1.4616178106448543\n",
      "Rescale velocity: 0.7844210421726721\n",
      "average_temperature: 1.413802627329581\n",
      "Rescale velocity: 0.805321064386556\n",
      "average_temperature: 1.37258796965271\n",
      "Rescale velocity: 0.824600983389441\n",
      "average_temperature: 1.3368737552769745\n",
      "Rescale velocity: 0.8423546810593124\n",
      "average_temperature: 1.3057832435286592\n",
      "Rescale velocity: 0.8586753850058875\n",
      "average_temperature: 1.2786090157708754\n",
      "Rescale velocity: 0.8736550951561225\n",
      "average_temperature: 1.2547738450128276\n",
      "Rescale velocity: 0.887384044734723\n",
      "average_temperature: 1.2338019057950644\n",
      "Rescale velocity: 0.8999502129775658\n",
      "average_temperature: 1.2152972956046768\n",
      "Rescale velocity: 0.9114388964829074\n",
      "average_temperature: 1.1989278115394113\n",
      "Rescale velocity: 0.9219323395734735\n",
      "average_temperature: 1.1844125608641611\n",
      "Rescale velocity: 0.9315094204419552\n",
      "average_temperature: 1.1715124060701996\n",
      "Rescale velocity: 0.940245388656704\n",
      "average_temperature: 1.1600225295069666\n",
      "Rescale velocity: 0.9482116506488258\n",
      "average_temperature: 1.1497665961877754\n",
      "Rescale velocity: 0.955475603195628\n",
      "average_temperature: 1.1405921252067999\n",
      "Rescale velocity: 0.9621005209650645\n",
      "average_temperature: 1.1323667689507932\n",
      "Rescale velocity: 0.9681455133187146\n",
      "average_temperature: 1.1249752569627884\n",
      "Rescale velocity: 0.9736655782376182\n",
      "average_temperature: 1.1183167958720597\n",
      "Rescale velocity: 0.97871179776947\n",
      "average_temperature: 1.1123027338128442\n",
      "Rescale velocity: 0.9833317398127299\n",
      "average_temperature: 1.1069370990042913\n",
      "Rescale velocity: 0.9874378682960938\n",
      "average_temperature: 1.1021522017178922\n",
      "Rescale velocity: 0.99122764244938\n",
      "average_temperature: 1.097881379651526\n",
      "average_temperature: 1.1051204451862482\n",
      "average_temperature: 1.1081301503380634\n",
      "average_temperature: 1.1058422542367836\n",
      "average_temperature: 1.099941862128834\n",
      "average_temperature: 1.0915467796039449\n",
      "average_temperature: 1.0813870379936898\n",
      "average_temperature: 1.0699402312617703\n",
      "average_temperature: 1.0572053177598977\n",
      "average_temperature: 1.0399262641060132\n",
      "average_temperature: 1.015644690989378\n",
      "average_temperature: 0.9820462586493257\n",
      "average_temperature: 0.9373549407715145\n",
      "average_temperature: 0.8796318778254537\n",
      "average_temperature: 0.8087341947888517\n",
      "average_temperature: 0.7268127133659344\n",
      "average_temperature: 0.6378135419799005\n",
      "average_temperature: 0.5498747716452419\n",
      "average_temperature: 0.47484707755648253\n",
      "average_temperature: 0.4251849816085892\n",
      "average_temperature: 0.41144803956608583\n",
      "average_temperature: 0.43746790520504036\n",
      "average_temperature: 0.4976606224361921\n",
      "average_temperature: 0.5784872366694919\n",
      "average_temperature: 0.66336421867406\n",
      "average_temperature: 0.7378629832833812\n",
      "average_temperature: 0.7925270234190415\n",
      "average_temperature: 0.8229682826335468\n",
      "average_temperature: 0.8284751384485224\n",
      "average_temperature: 0.8104317156700671\n",
      "average_temperature: 0.7712325546638341\n",
      "average_temperature: 0.7138403070927835\n",
      "average_temperature: 0.6418657375726613\n",
      "average_temperature: 0.5599459502736068\n",
      "average_temperature: 0.47414595455719427\n",
      "average_temperature: 0.3920796729641005\n",
      "average_temperature: 0.3224792666055432\n",
      "average_temperature: 0.27409673937125406\n",
      "average_temperature: 0.25410709752657706\n",
      "average_temperature: 0.26650740511459303\n",
      "average_temperature: 0.31123180321778376\n",
      "average_temperature: 0.3837437816231419\n",
      "average_temperature: 0.4763064441191227\n",
      "average_temperature: 0.5798658166948704\n",
      "average_temperature: 0.6855652319013035\n",
      "average_temperature: 0.7859676927725994\n",
      "average_temperature: 0.8756784612102788\n",
      "average_temperature: 0.9513975998225515\n",
      "average_temperature: 1.0116860869333952\n",
      "average_temperature: 1.0563033967027298\n",
      "average_temperature: 1.085408275163151\n",
      "average_temperature: 1.0997442838352613\n",
      "average_temperature: 1.100639405035314\n",
      "average_temperature: 1.0892195698950988\n",
      "average_temperature: 1.0650685021642883\n",
      "average_temperature: 1.02878415808936\n",
      "average_temperature: 0.9806988432646453\n",
      "average_temperature: 0.9209802072856434\n",
      "average_temperature: 0.8509221281638591\n",
      "average_temperature: 0.7720704714687351\n",
      "average_temperature: 0.6877728146951584\n",
      "average_temperature: 0.6015445875187444\n",
      "average_temperature: 0.5173562576071496\n",
      "average_temperature: 0.43954787156973196\n",
      "average_temperature: 0.3724016010647763\n",
      "average_temperature: 0.32004797143036673\n",
      "average_temperature: 0.2870126305166931\n",
      "average_temperature: 0.277323027470975\n",
      "average_temperature: 0.2937360874210588\n",
      "average_temperature: 0.33645482477181365\n",
      "average_temperature: 0.4022560770103831\n",
      "average_temperature: 0.485036261083788\n",
      "average_temperature: 0.5770985093050722\n",
      "average_temperature: 0.6709466243893258\n",
      "average_temperature: 0.759930804009229\n",
      "average_temperature: 0.8388579019912307\n",
      "average_temperature: 0.9045838774664925\n",
      "average_temperature: 0.955395637050181\n",
      "average_temperature: 0.9903736032958503\n",
      "average_temperature: 1.0090320154176886\n",
      "average_temperature: 1.0110873294921516\n",
      "average_temperature: 0.9962015752210606\n",
      "average_temperature: 0.964455670053691\n",
      "average_temperature: 0.9157619146691339\n",
      "average_temperature: 0.8511882603104192\n",
      "average_temperature: 0.7724055893905056\n",
      "average_temperature: 0.683466246246288\n",
      "average_temperature: 0.589718479358716\n",
      "average_temperature: 0.4981167215370731\n",
      "average_temperature: 0.41655624231570815\n",
      "average_temperature: 0.35208843765742937\n",
      "average_temperature: 0.3098691777881773\n",
      "average_temperature: 0.2925518465471451\n",
      "average_temperature: 0.30043856609392916\n",
      "average_temperature: 0.3317055433503355\n",
      "average_temperature: 0.3828738867135198\n",
      "average_temperature: 0.44874682253358594\n",
      "average_temperature: 0.5234877454704656\n",
      "average_temperature: 0.6014529210054685\n",
      "average_temperature: 0.6772194251573996\n",
      "average_temperature: 0.7462624057531763\n",
      "average_temperature: 0.8053045644310611\n",
      "average_temperature: 0.8522748719125504\n",
      "average_temperature: 0.885561467206484\n",
      "average_temperature: 0.9045759661538745\n",
      "average_temperature: 0.909122967280107\n",
      "average_temperature: 0.8993009618863609\n",
      "average_temperature: 0.8758995234406752\n",
      "average_temperature: 0.8402448970323158\n",
      "average_temperature: 0.7948209618428242\n",
      "average_temperature: 0.7429192647033506\n",
      "average_temperature: 0.6885739802387351\n",
      "average_temperature: 0.6365485699691716\n",
      "average_temperature: 0.5910703818603288\n",
      "average_temperature: 0.5554007398866327\n",
      "average_temperature: 0.5310420424732416\n",
      "average_temperature: 0.5177558338145412\n",
      "average_temperature: 0.514504899438473\n",
      "average_temperature: 0.5188022467900668\n",
      "average_temperature: 0.5287014967052689\n",
      "average_temperature: 0.5435351456624576\n",
      "average_temperature: 0.5633409091290744\n",
      "average_temperature: 0.5885241685956127\n",
      "average_temperature: 0.6186737800818635\n",
      "average_temperature: 0.6537747338934443\n",
      "average_temperature: 0.691889268745397\n",
      "average_temperature: 0.7313494057528627\n",
      "average_temperature: 0.7695858324069672\n",
      "average_temperature: 0.8037345522627308\n",
      "average_temperature: 0.8310672553220582\n",
      "average_temperature: 0.8491488568543295\n",
      "average_temperature: 0.8562792712206048\n",
      "average_temperature: 0.851210677205791\n",
      "average_temperature: 0.8336214833208252\n",
      "average_temperature: 0.8044908065858478\n",
      "average_temperature: 0.7643708343874981\n",
      "average_temperature: 0.7147181424806556\n",
      "average_temperature: 0.6578812192377123\n",
      "average_temperature: 0.597048323641713\n",
      "average_temperature: 0.5364025473927693\n",
      "average_temperature: 0.4816405308090269\n",
      "average_temperature: 0.43890694353552423\n",
      "average_temperature: 0.4135018656208283\n",
      "average_temperature: 0.4085241428954631\n",
      "average_temperature: 0.4238225038851717\n",
      "average_temperature: 0.45642820692886965\n",
      "average_temperature: 0.5011207856529397\n",
      "average_temperature: 0.5522424223568804\n",
      "average_temperature: 0.605340241987339\n",
      "average_temperature: 0.6565259832327781\n",
      "average_temperature: 0.7026281837239481\n",
      "average_temperature: 0.7413050847391677\n",
      "average_temperature: 0.7715544888036161\n",
      "average_temperature: 0.7930521215566959\n",
      "average_temperature: 0.8056329057339874\n",
      "average_temperature: 0.8099100211426482\n",
      "average_temperature: 0.8063321299732176\n",
      "average_temperature: 0.7956180716354403\n",
      "average_temperature: 0.7787114252525782\n",
      "average_temperature: 0.7568285104290883\n",
      "average_temperature: 0.7312263005901122\n",
      "average_temperature: 0.7033260697438798\n",
      "average_temperature: 0.6751337997063861\n",
      "average_temperature: 0.6489808441708557\n",
      "average_temperature: 0.6272538163618563\n",
      "average_temperature: 0.612328263881145\n",
      "average_temperature: 0.6059070410946424\n"
     ]
    },
    {
     "name": "stdout",
     "output_type": "stream",
     "text": [
      "average_temperature: 0.6083084241663966\n",
      "average_temperature: 0.6189276466485555\n",
      "average_temperature: 0.6361480795424616\n",
      "average_temperature: 0.6577772331443252\n",
      "average_temperature: 0.6808060831332048\n",
      "average_temperature: 0.7029122560329152\n",
      "average_temperature: 0.7214362892775473\n",
      "average_temperature: 0.7353890953468376\n",
      "average_temperature: 0.7441941422870695\n",
      "average_temperature: 0.747226580026775\n",
      "average_temperature: 0.7448898376484067\n",
      "average_temperature: 0.7377262230840886\n",
      "average_temperature: 0.7262024774255055\n",
      "average_temperature: 0.7113763448912611\n",
      "average_temperature: 0.6944740659506965\n",
      "average_temperature: 0.6755529808712153\n",
      "average_temperature: 0.6556434847982492\n",
      "average_temperature: 0.6351188956797026\n",
      "average_temperature: 0.6141375238953575\n",
      "average_temperature: 0.5932625924110155\n",
      "average_temperature: 0.5734601709813026\n",
      "average_temperature: 0.5557904140450525\n",
      "average_temperature: 0.5417583499617096\n",
      "average_temperature: 0.5323258158115599\n",
      "average_temperature: 0.5270084414410324\n",
      "average_temperature: 0.5249917221302383\n",
      "average_temperature: 0.5253475797558493\n",
      "average_temperature: 0.526802534020408\n",
      "average_temperature: 0.5272593998660625\n",
      "average_temperature: 0.5258487061059943\n",
      "average_temperature: 0.5221277724137223\n",
      "average_temperature: 0.5172472603444463\n",
      "average_temperature: 0.5130378896993756\n",
      "average_temperature: 0.5116489944188357\n",
      "average_temperature: 0.5145175467803466\n",
      "average_temperature: 0.5225015044111229\n",
      "average_temperature: 0.5356982650233051\n",
      "average_temperature: 0.5530435670276788\n",
      "average_temperature: 0.5729758621594766\n",
      "average_temperature: 0.5939548698448199\n",
      "average_temperature: 0.6151091096263193\n",
      "average_temperature: 0.6351305143269822\n",
      "average_temperature: 0.6528993478981416\n",
      "average_temperature: 0.6674046696931079\n",
      "average_temperature: 0.6780742022908475\n",
      "average_temperature: 0.6843941385069301\n",
      "average_temperature: 0.686551604134394\n",
      "average_temperature: 0.6846154016044892\n",
      "average_temperature: 0.6799367568397079\n",
      "average_temperature: 0.6746277952449963\n",
      "average_temperature: 0.6705936012331057\n",
      "average_temperature: 0.6694662321978025\n",
      "average_temperature: 0.672294806423771\n",
      "average_temperature: 0.678956762853981\n",
      "average_temperature: 0.6886194226057116\n",
      "average_temperature: 0.6997581365910699\n",
      "average_temperature: 0.7105258457907448\n",
      "average_temperature: 0.7194778427874987\n",
      "average_temperature: 0.7256699933618884\n",
      "average_temperature: 0.7295198234105053\n",
      "average_temperature: 0.7307498387781658\n",
      "average_temperature: 0.7294733007148603\n",
      "average_temperature: 0.7254062741243579\n",
      "average_temperature: 0.719057730696626\n",
      "average_temperature: 0.7110011874055333\n",
      "average_temperature: 0.7016704164056481\n",
      "average_temperature: 0.6912442100130477\n",
      "average_temperature: 0.6799282509686153\n",
      "average_temperature: 0.668234780844418\n",
      "average_temperature: 0.656413911723752\n",
      "average_temperature: 0.6454085147542882\n",
      "average_temperature: 0.6365713429719417\n",
      "average_temperature: 0.6321158002568757\n",
      "average_temperature: 0.6340508322124845\n",
      "average_temperature: 0.6436294746621365\n",
      "average_temperature: 0.6607583839535761\n",
      "average_temperature: 0.6835476223857688\n",
      "average_temperature: 0.7082964329076883\n",
      "average_temperature: 0.7310976410040837\n",
      "average_temperature: 0.7492941040006182\n",
      "average_temperature: 0.7617682293226749\n",
      "average_temperature: 0.7675657695750122\n",
      "average_temperature: 0.7669706248403787\n",
      "average_temperature: 0.7607751682444897\n",
      "average_temperature: 0.7502489160038988\n",
      "average_temperature: 0.7360798852191895\n",
      "average_temperature: 0.7194267507934922\n",
      "average_temperature: 0.7015927253400489\n",
      "average_temperature: 0.6849593507702977\n",
      "average_temperature: 0.6721395165529731\n",
      "average_temperature: 0.6655004855812771\n",
      "average_temperature: 0.6658731525982703\n",
      "average_temperature: 0.6723611126256461\n",
      "average_temperature: 0.6814542750391779\n",
      "average_temperature: 0.6895967431500162\n",
      "average_temperature: 0.6934887902973189\n",
      "average_temperature: 0.6918543407545222\n",
      "average_temperature: 0.6846662173583421\n",
      "average_temperature: 0.67284994657005\n",
      "average_temperature: 0.6579397505540795\n",
      "average_temperature: 0.641825598657281\n",
      "average_temperature: 0.626044539090693\n",
      "average_temperature: 0.6126653107058265\n",
      "average_temperature: 0.6030838966120541\n",
      "average_temperature: 0.5972219897906816\n",
      "average_temperature: 0.5956322469589332\n",
      "average_temperature: 0.5972783940126852\n",
      "average_temperature: 0.6014552060422111\n",
      "average_temperature: 0.6069877201381568\n",
      "average_temperature: 0.6126215339627621\n",
      "average_temperature: 0.6176389089668262\n",
      "average_temperature: 0.6212280212201633\n",
      "average_temperature: 0.6225027936331667\n",
      "average_temperature: 0.621056420878659\n",
      "average_temperature: 0.6179871972189914\n",
      "average_temperature: 0.6153395943432053\n",
      "average_temperature: 0.6150878267086382\n",
      "average_temperature: 0.6180278833693897\n",
      "average_temperature: 0.6250876888769115\n",
      "average_temperature: 0.6359723945118927\n",
      "average_temperature: 0.6498903987443964\n",
      "average_temperature: 0.6660723561821508\n",
      "average_temperature: 0.6824902349801432\n",
      "average_temperature: 0.6979865686559605\n",
      "average_temperature: 0.7117087661140475\n",
      "average_temperature: 0.723534640726784\n",
      "average_temperature: 0.7324574316735593\n",
      "average_temperature: 0.7378650130603859\n",
      "average_temperature: 0.74018973563289\n",
      "average_temperature: 0.7399595899245576\n",
      "average_temperature: 0.737576089632219\n",
      "average_temperature: 0.7336910365689344\n",
      "average_temperature: 0.7287815450541651\n",
      "average_temperature: 0.7229165219435503\n",
      "average_temperature: 0.7164985431365729\n",
      "average_temperature: 0.7093195841104467\n",
      "average_temperature: 0.7014718874218492\n",
      "average_temperature: 0.6931779890759443\n",
      "average_temperature: 0.6849590217629187\n",
      "average_temperature: 0.6777283022159935\n",
      "average_temperature: 0.6728319963509976\n",
      "average_temperature: 0.6715987266726202\n",
      "average_temperature: 0.675090274817571\n",
      "average_temperature: 0.6831666264942142\n",
      "average_temperature: 0.69503988261575\n",
      "average_temperature: 0.7091334346997832\n",
      "average_temperature: 0.7235460548195691\n",
      "average_temperature: 0.7365812228248803\n",
      "average_temperature: 0.7471652039502181\n",
      "average_temperature: 0.7539467922009877\n",
      "average_temperature: 0.7558412434291674\n",
      "average_temperature: 0.7514475801440845\n",
      "average_temperature: 0.7405258747501547\n",
      "average_temperature: 0.7234297204843517\n",
      "average_temperature: 0.7001844847006069\n",
      "average_temperature: 0.6722837574532384\n",
      "average_temperature: 0.640968298554422\n",
      "average_temperature: 0.6081511280900695\n",
      "average_temperature: 0.5757424674825775\n",
      "average_temperature: 0.546082149931256\n",
      "average_temperature: 0.521321636951785\n",
      "average_temperature: 0.5029077999245033\n",
      "average_temperature: 0.49141678905347536\n",
      "average_temperature: 0.48643284291945504\n",
      "average_temperature: 0.4866672598197286\n",
      "average_temperature: 0.4906035739506615\n",
      "average_temperature: 0.4969811296246729\n",
      "average_temperature: 0.5049779175422379\n",
      "average_temperature: 0.5144223936285078\n",
      "average_temperature: 0.5256685427833152\n",
      "average_temperature: 0.5388411226976207\n",
      "average_temperature: 0.5538894167037162\n",
      "average_temperature: 0.5701205352503559\n",
      "average_temperature: 0.586473685281293\n",
      "average_temperature: 0.6019254106777311\n",
      "average_temperature: 0.6157049568053004\n",
      "average_temperature: 0.6277272702159813\n",
      "average_temperature: 0.6373833641202782\n",
      "average_temperature: 0.6447369736181391\n",
      "average_temperature: 0.6498630881540353\n",
      "average_temperature: 0.6527395859385021\n",
      "average_temperature: 0.6535541171210274\n",
      "average_temperature: 0.6523291553621549\n",
      "average_temperature: 0.6495531562731023\n",
      "average_temperature: 0.6457695554052654\n",
      "average_temperature: 0.6413042941591794\n",
      "average_temperature: 0.6361663965534915\n",
      "average_temperature: 0.6309676262852099\n",
      "average_temperature: 0.626904210894714\n",
      "average_temperature: 0.6243959508073673\n",
      "average_temperature: 0.6239405898316579\n",
      "average_temperature: 0.6262003576206993\n",
      "average_temperature: 0.6311123014507997\n",
      "average_temperature: 0.6381312948902748\n",
      "average_temperature: 0.6469785318642145\n",
      "average_temperature: 0.6567177094989134\n",
      "average_temperature: 0.6664237455289448\n",
      "average_temperature: 0.675322617323719\n",
      "average_temperature: 0.682852513207978\n",
      "average_temperature: 0.6883947505149137\n",
      "average_temperature: 0.6913640924335612\n",
      "average_temperature: 0.6916396885093282\n",
      "average_temperature: 0.6899471739149715\n",
      "average_temperature: 0.6873623234732479\n",
      "average_temperature: 0.6845746440134277\n",
      "average_temperature: 0.6822609790942646\n",
      "average_temperature: 0.6811007620268218\n",
      "average_temperature: 0.6816283615531209\n",
      "average_temperature: 0.6843442136298843\n",
      "average_temperature: 0.6881129394776135\n",
      "average_temperature: 0.6925088637499573\n",
      "average_temperature: 0.6969328041996498\n",
      "average_temperature: 0.7010888263662145\n",
      "average_temperature: 0.7050533678019054\n",
      "average_temperature: 0.7081469163354831\n"
     ]
    },
    {
     "name": "stdout",
     "output_type": "stream",
     "text": [
      "average_temperature: 0.7096852150994716\n",
      "average_temperature: 0.7092997163924831\n",
      "average_temperature: 0.7066390534021747\n",
      "average_temperature: 0.7014999237238799\n",
      "average_temperature: 0.6938948832845178\n",
      "average_temperature: 0.6843710046966744\n",
      "average_temperature: 0.6728427274504911\n",
      "average_temperature: 0.6596130828621415\n",
      "average_temperature: 0.6456671891560267\n",
      "average_temperature: 0.6313548882018845\n",
      "average_temperature: 0.6178155721653488\n",
      "average_temperature: 0.605412038744828\n",
      "average_temperature: 0.5948752320689529\n",
      "average_temperature: 0.5876917101181839\n",
      "average_temperature: 0.585056929560455\n",
      "average_temperature: 0.5879958900541731\n",
      "average_temperature: 0.597164649150556\n",
      "average_temperature: 0.6125666136861936\n",
      "average_temperature: 0.6334943210775505\n",
      "average_temperature: 0.658354005358744\n",
      "average_temperature: 0.6849491520591638\n",
      "average_temperature: 0.7110135187306565\n",
      "average_temperature: 0.7346237346934035\n",
      "average_temperature: 0.7538908959854693\n",
      "average_temperature: 0.767297573364915\n",
      "average_temperature: 0.7735339927124972\n",
      "average_temperature: 0.7726283379664752\n",
      "average_temperature: 0.765063610463627\n",
      "average_temperature: 0.7519021007642654\n",
      "average_temperature: 0.7345600374514297\n",
      "average_temperature: 0.7150351375530434\n",
      "average_temperature: 0.6951821587948575\n",
      "average_temperature: 0.6772080069887537\n",
      "average_temperature: 0.6629236086603116\n",
      "average_temperature: 0.653183279588331\n",
      "average_temperature: 0.64757926934011\n",
      "average_temperature: 0.6450089074619829\n",
      "average_temperature: 0.6442062939913227\n",
      "average_temperature: 0.6438949748356122\n",
      "average_temperature: 0.6423957157226149\n",
      "average_temperature: 0.6392712026389695\n",
      "average_temperature: 0.634659117909385\n",
      "average_temperature: 0.6291812329860728\n",
      "average_temperature: 0.6239843545406607\n",
      "average_temperature: 0.6203151241642207\n",
      "average_temperature: 0.6191586200224862\n",
      "average_temperature: 0.6210086982946902\n",
      "average_temperature: 0.6260917206072498\n",
      "average_temperature: 0.6347010582892025\n",
      "average_temperature: 0.6463763433570149\n",
      "average_temperature: 0.6611343450917075\n",
      "average_temperature: 0.6778735706395421\n",
      "average_temperature: 0.6955102707346134\n",
      "average_temperature: 0.7128648673008611\n",
      "average_temperature: 0.7284385206625851\n",
      "average_temperature: 0.741291770688773\n",
      "average_temperature: 0.7505012843764214\n",
      "average_temperature: 0.7556516315515974\n",
      "average_temperature: 0.7559883080492696\n",
      "average_temperature: 0.7506632003900157\n",
      "average_temperature: 0.7402998715604283\n",
      "average_temperature: 0.7249066296914448\n",
      "average_temperature: 0.7047381834815203\n",
      "average_temperature: 0.6807160441251987\n",
      "average_temperature: 0.6536241106030629\n",
      "average_temperature: 0.6252041684767459\n",
      "average_temperature: 0.5965229618790521\n",
      "average_temperature: 0.5687969580802676\n",
      "average_temperature: 0.5434316117717249\n",
      "average_temperature: 0.5217005765106453\n",
      "average_temperature: 0.5047982832196196\n",
      "average_temperature: 0.49347544172224445\n",
      "average_temperature: 0.48809408328797443\n",
      "average_temperature: 0.48821356689829176\n",
      "average_temperature: 0.49372552810383896\n",
      "average_temperature: 0.5041746779523338\n",
      "average_temperature: 0.5188626269924315\n",
      "average_temperature: 0.5373595863487767\n",
      "average_temperature: 0.5588087637666842\n",
      "average_temperature: 0.5828487846447217\n",
      "average_temperature: 0.6079671930818297\n",
      "average_temperature: 0.6326219378751267\n",
      "average_temperature: 0.6555852630194243\n",
      "average_temperature: 0.6761612080369789\n",
      "average_temperature: 0.6935109490205469\n",
      "average_temperature: 0.7073543964900935\n",
      "average_temperature: 0.7178473737672201\n",
      "average_temperature: 0.7257172495534324\n",
      "average_temperature: 0.730936615897811\n",
      "average_temperature: 0.7335716782611006\n",
      "average_temperature: 0.7338466027913486\n",
      "average_temperature: 0.7319444715000266\n",
      "average_temperature: 0.7277958794583544\n",
      "average_temperature: 0.7220710324960667\n",
      "average_temperature: 0.7148724255835653\n",
      "average_temperature: 0.7067017426542147\n",
      "average_temperature: 0.6982654474743092\n",
      "average_temperature: 0.690679636018382\n",
      "average_temperature: 0.6845244404357426\n",
      "average_temperature: 0.6797404332385376\n",
      "average_temperature: 0.6763551125923492\n",
      "average_temperature: 0.6748482946643726\n",
      "average_temperature: 0.6745526121618017\n",
      "average_temperature: 0.6753731216796324\n",
      "average_temperature: 0.6765891533320098\n",
      "average_temperature: 0.6777964659434709\n",
      "average_temperature: 0.6787677735759842\n",
      "average_temperature: 0.6792475782646924\n",
      "average_temperature: 0.6793382525960558\n",
      "average_temperature: 0.6791531556261461\n",
      "average_temperature: 0.6790822489424795\n",
      "average_temperature: 0.6794890937982839\n",
      "average_temperature: 0.6804584333256637\n",
      "average_temperature: 0.6808749843718437\n",
      "average_temperature: 0.679740090255014\n",
      "average_temperature: 0.6763930099986409\n",
      "average_temperature: 0.6701261308797481\n",
      "average_temperature: 0.660016616414203\n",
      "average_temperature: 0.6459355843526401\n",
      "average_temperature: 0.6286188799779389\n",
      "average_temperature: 0.6079799793238375\n",
      "average_temperature: 0.5841846157065677\n",
      "average_temperature: 0.5588777910240568\n",
      "average_temperature: 0.5337624333083361\n",
      "average_temperature: 0.5107840136605232\n",
      "average_temperature: 0.49240539942320444\n",
      "average_temperature: 0.48133264027010064\n",
      "average_temperature: 0.4794582463607572\n",
      "average_temperature: 0.4874217368999194\n",
      "average_temperature: 0.5038335210869568\n",
      "average_temperature: 0.5259139300280711\n",
      "average_temperature: 0.5507017539953907\n",
      "average_temperature: 0.5755712787771701\n",
      "average_temperature: 0.5978514301828661\n",
      "average_temperature: 0.6160195349187556\n",
      "average_temperature: 0.6296777999018887\n",
      "average_temperature: 0.6396466113581288\n",
      "average_temperature: 0.6467471624051204\n",
      "average_temperature: 0.6519066809551552\n",
      "average_temperature: 0.6560989929601719\n",
      "average_temperature: 0.6599296859453939\n",
      "average_temperature: 0.6643541005539987\n",
      "average_temperature: 0.6693301688920997\n",
      "average_temperature: 0.6743319246386769\n",
      "average_temperature: 0.679019641412217\n",
      "average_temperature: 0.6827289328275636\n",
      "average_temperature: 0.6847868578955367\n",
      "average_temperature: 0.6847651867649232\n",
      "average_temperature: 0.6827909277895358\n",
      "average_temperature: 0.6784406391921648\n",
      "average_temperature: 0.6717438518483931\n",
      "average_temperature: 0.6631908530852457\n",
      "average_temperature: 0.6534971640927304\n",
      "average_temperature: 0.6436211240545197\n",
      "average_temperature: 0.6343319579415581\n",
      "average_temperature: 0.6266916691211661\n",
      "average_temperature: 0.62109343631763\n",
      "average_temperature: 0.6183552714821798\n",
      "average_temperature: 0.6184667511206265\n",
      "average_temperature: 0.6211369723987876\n",
      "average_temperature: 0.6248672052852761\n",
      "average_temperature: 0.6281994143699822\n",
      "average_temperature: 0.6297322168121847\n",
      "average_temperature: 0.6282424802445539\n",
      "average_temperature: 0.6232361529343011\n",
      "average_temperature: 0.6148732963409418\n",
      "average_temperature: 0.6033427800258254\n",
      "average_temperature: 0.5899678305416374\n",
      "average_temperature: 0.5768977299758563\n",
      "average_temperature: 0.5661666689382416\n",
      "average_temperature: 0.5592520432651119\n",
      "average_temperature: 0.5573603444177447\n",
      "average_temperature: 0.5610000946245118\n",
      "average_temperature: 0.5700056343307465\n",
      "average_temperature: 0.5837940770880427\n",
      "average_temperature: 0.6011651899280306\n",
      "average_temperature: 0.6211781084985953\n",
      "average_temperature: 0.6425668281271817\n",
      "average_temperature: 0.6635621628513799\n",
      "average_temperature: 0.6830084530472191\n",
      "average_temperature: 0.700243087872507\n",
      "average_temperature: 0.7151744025390513\n",
      "average_temperature: 0.7279063265422486\n",
      "average_temperature: 0.7387308523481684\n",
      "average_temperature: 0.7476196808515896\n",
      "average_temperature: 0.7547874711815546\n",
      "average_temperature: 0.7608561008408522\n",
      "average_temperature: 0.7673112000597951\n",
      "average_temperature: 0.7741492697006512\n",
      "average_temperature: 0.7809450785819742\n",
      "average_temperature: 0.7869282006664566\n",
      "average_temperature: 0.7919013996371898\n",
      "average_temperature: 0.7951247121472755\n",
      "average_temperature: 0.7956888931713222\n",
      "average_temperature: 0.7928487803780037\n",
      "average_temperature: 0.7857297576292194\n",
      "average_temperature: 0.7740060605993059\n",
      "average_temperature: 0.7579437621763254\n",
      "average_temperature: 0.7379449958931277\n",
      "average_temperature: 0.714751409819358\n",
      "average_temperature: 0.688931798953032\n",
      "average_temperature: 0.6617069685655588\n",
      "average_temperature: 0.634543535586177\n",
      "average_temperature: 0.6089193295088444\n",
      "average_temperature: 0.5862544194892225\n",
      "average_temperature: 0.5684276904959057\n",
      "average_temperature: 0.5564763287480469\n",
      "average_temperature: 0.5503788243008686\n",
      "average_temperature: 0.5497784922769775\n",
      "average_temperature: 0.5543453946976853\n",
      "average_temperature: 0.5629710605269094\n",
      "average_temperature: 0.5738007507361776\n",
      "average_temperature: 0.5851606978976472\n",
      "average_temperature: 0.595727904750753\n"
     ]
    },
    {
     "name": "stdout",
     "output_type": "stream",
     "text": [
      "average_temperature: 0.6049467562942552\n",
      "average_temperature: 0.6126512030753386\n",
      "average_temperature: 0.6189864175029617\n",
      "average_temperature: 0.6242903796591617\n",
      "average_temperature: 0.628538462243648\n",
      "average_temperature: 0.6317045213389866\n",
      "average_temperature: 0.6333024571273104\n",
      "average_temperature: 0.6330295748809825\n",
      "average_temperature: 0.6313417713726223\n",
      "average_temperature: 0.628472718848007\n",
      "average_temperature: 0.6239428437535521\n",
      "average_temperature: 0.6185208030240062\n",
      "average_temperature: 0.6130176910222165\n",
      "average_temperature: 0.608409261584797\n",
      "average_temperature: 0.6053295193791355\n",
      "average_temperature: 0.6045088225207946\n",
      "average_temperature: 0.6058679544782022\n",
      "average_temperature: 0.6094888166262648\n",
      "average_temperature: 0.6161737187684827\n",
      "average_temperature: 0.625306226229268\n",
      "average_temperature: 0.637007357768857\n",
      "average_temperature: 0.6509244623413992\n",
      "average_temperature: 0.6662111091453755\n",
      "average_temperature: 0.6824618402932273\n",
      "average_temperature: 0.6994944846336035\n",
      "average_temperature: 0.7163181741726968\n",
      "average_temperature: 0.7323283971295357\n",
      "average_temperature: 0.746643992631413\n",
      "average_temperature: 0.758845694730675\n",
      "average_temperature: 0.7683353140683057\n",
      "average_temperature: 0.7745406886101354\n",
      "average_temperature: 0.7765018303437585\n",
      "average_temperature: 0.7733561528618756\n",
      "average_temperature: 0.7646880647944455\n",
      "average_temperature: 0.7510809084734295\n",
      "average_temperature: 0.7331632334810131\n",
      "average_temperature: 0.7122226351190306\n",
      "average_temperature: 0.6897976169782536\n",
      "average_temperature: 0.667812566630164\n",
      "average_temperature: 0.6482478419125897\n",
      "average_temperature: 0.6322196762164741\n",
      "average_temperature: 0.6197286568529781\n",
      "average_temperature: 0.6103138894459571\n",
      "average_temperature: 0.6031657757709875\n",
      "average_temperature: 0.597582944544285\n",
      "average_temperature: 0.5936936981550878\n",
      "average_temperature: 0.5916498732012736\n",
      "average_temperature: 0.5918736915607358\n",
      "average_temperature: 0.5952033530887134\n",
      "average_temperature: 0.6022431417141967\n",
      "average_temperature: 0.6128975739617586\n",
      "average_temperature: 0.6259372978308113\n",
      "average_temperature: 0.6401196665870439\n",
      "average_temperature: 0.6548957528428935\n",
      "average_temperature: 0.6691136760286046\n",
      "average_temperature: 0.6816638905078999\n",
      "average_temperature: 0.6922881797105376\n",
      "average_temperature: 0.701448694986261\n",
      "average_temperature: 0.7095118196167279\n",
      "average_temperature: 0.7165853139404121\n",
      "average_temperature: 0.7226436809977199\n",
      "average_temperature: 0.7274277027061878\n",
      "average_temperature: 0.7309407622784292\n",
      "average_temperature: 0.7329809615634256\n",
      "average_temperature: 0.7335213011233828\n",
      "average_temperature: 0.7319811319549311\n",
      "average_temperature: 0.729405608731801\n",
      "average_temperature: 0.7261969149177016\n",
      "average_temperature: 0.7223597139646609\n",
      "average_temperature: 0.7183955497966534\n",
      "average_temperature: 0.7147442968888916\n",
      "average_temperature: 0.7110889289569586\n",
      "average_temperature: 0.7066453826811536\n",
      "average_temperature: 0.7010917577951564\n",
      "average_temperature: 0.694067363467528\n",
      "average_temperature: 0.685503048110243\n",
      "average_temperature: 0.6753803243723114\n",
      "average_temperature: 0.664183503297351\n",
      "average_temperature: 0.652625054782638\n",
      "average_temperature: 0.6408289011032282\n",
      "average_temperature: 0.6296366441882371\n",
      "average_temperature: 0.6194052984525296\n",
      "average_temperature: 0.6112293115469801\n",
      "average_temperature: 0.6052943860920336\n",
      "average_temperature: 0.6019345434471499\n",
      "average_temperature: 0.6014709486329879\n",
      "average_temperature: 0.6037975359580816\n",
      "average_temperature: 0.6093047677147264\n",
      "average_temperature: 0.6185549632358708\n",
      "average_temperature: 0.6314421910704502\n",
      "average_temperature: 0.6471200923254804\n",
      "average_temperature: 0.664317335614054\n",
      "average_temperature: 0.6818158457863671\n",
      "average_temperature: 0.6984908931959485\n",
      "average_temperature: 0.7137589995499071\n",
      "average_temperature: 0.7269734760889741\n",
      "average_temperature: 0.7379217201359862\n",
      "average_temperature: 0.7467508260284264\n",
      "average_temperature: 0.753067581687848\n",
      "average_temperature: 0.757880520880317\n",
      "average_temperature: 0.7616509750678094\n",
      "average_temperature: 0.7645840961266297\n",
      "average_temperature: 0.7668638353845144\n",
      "average_temperature: 0.7679516787014856\n",
      "average_temperature: 0.7674693891352244\n",
      "average_temperature: 0.7649472772757643\n",
      "average_temperature: 0.7591390441864542\n",
      "average_temperature: 0.7492348653110736\n",
      "average_temperature: 0.7344274443095745\n",
      "average_temperature: 0.71449674520621\n",
      "average_temperature: 0.688871806414338\n",
      "average_temperature: 0.6586731015250722\n",
      "average_temperature: 0.6258846374494753\n",
      "average_temperature: 0.5936788422851754\n",
      "average_temperature: 0.5651854897873306\n",
      "average_temperature: 0.5432311486163333\n",
      "average_temperature: 0.5293918936261377\n",
      "average_temperature: 0.5237323977464959\n",
      "average_temperature: 0.5242193997749177\n",
      "average_temperature: 0.5287787038912576\n",
      "average_temperature: 0.5352458594102777\n",
      "average_temperature: 0.5420264552005051\n",
      "average_temperature: 0.5489865397797656\n",
      "average_temperature: 0.5567802773251043\n",
      "average_temperature: 0.565514857598912\n",
      "average_temperature: 0.5754395065781355\n",
      "average_temperature: 0.5876808688787916\n",
      "average_temperature: 0.6022330056409129\n",
      "average_temperature: 0.6193888456860551\n",
      "average_temperature: 0.6389800876491993\n",
      "average_temperature: 0.6598272436163357\n",
      "average_temperature: 0.6808042813070706\n",
      "average_temperature: 0.7010416582855735\n",
      "average_temperature: 0.719271754579096\n",
      "average_temperature: 0.7340209654493005\n",
      "average_temperature: 0.7448917372151219\n",
      "average_temperature: 0.751668475816481\n",
      "average_temperature: 0.7539621743504948\n",
      "average_temperature: 0.7522660333477883\n",
      "average_temperature: 0.7464638716379027\n",
      "average_temperature: 0.7368167313692308\n",
      "average_temperature: 0.7244336633610341\n",
      "average_temperature: 0.7098294131133608\n",
      "average_temperature: 0.6941614400034108\n",
      "average_temperature: 0.6789075155879397\n",
      "average_temperature: 0.6653206832321079\n",
      "average_temperature: 0.6555059293510429\n",
      "average_temperature: 0.6506197911666668\n",
      "average_temperature: 0.6496035469149742\n",
      "average_temperature: 0.6501712257383244\n",
      "average_temperature: 0.6498273531232908\n",
      "average_temperature: 0.6474309956831972\n",
      "average_temperature: 0.6427265164951323\n",
      "average_temperature: 0.6367826449425991\n",
      "average_temperature: 0.6310527111458196\n",
      "average_temperature: 0.6273898085752153\n",
      "average_temperature: 0.6277221616729289\n",
      "average_temperature: 0.6330472996514052\n",
      "average_temperature: 0.6427639078500194\n",
      "average_temperature: 0.6559369621088578\n",
      "average_temperature: 0.6708044662787648\n",
      "average_temperature: 0.6856911627133692\n",
      "average_temperature: 0.6986480645352265\n",
      "average_temperature: 0.7087747833666763\n",
      "average_temperature: 0.7160371390719872\n",
      "average_temperature: 0.7199438008215221\n",
      "average_temperature: 0.7209155199921763\n",
      "average_temperature: 0.7202773306857252\n",
      "average_temperature: 0.7182275453691837\n",
      "average_temperature: 0.7158591927669371\n",
      "average_temperature: 0.714172266174261\n",
      "average_temperature: 0.712675100664063\n",
      "average_temperature: 0.7108353655578552\n",
      "average_temperature: 0.7072501490324441\n",
      "average_temperature: 0.7010758305031844\n",
      "average_temperature: 0.6921100465702876\n",
      "average_temperature: 0.6799013371558902\n",
      "average_temperature: 0.6649300165425563\n",
      "average_temperature: 0.6484501738850618\n",
      "average_temperature: 0.6310784922073291\n",
      "average_temperature: 0.6135083781239576\n",
      "average_temperature: 0.5964700478904255\n",
      "average_temperature: 0.5807646024285805\n",
      "average_temperature: 0.5675259344262601\n",
      "average_temperature: 0.5581272352757249\n",
      "average_temperature: 0.5530355942047719\n",
      "average_temperature: 0.5530318885973118\n",
      "average_temperature: 0.5582582042326937\n",
      "average_temperature: 0.568281894553502\n",
      "average_temperature: 0.5823421863155224\n",
      "average_temperature: 0.5994683774164326\n",
      "average_temperature: 0.6189958878071637\n",
      "average_temperature: 0.6401942227531712\n",
      "average_temperature: 0.6618120187083202\n",
      "average_temperature: 0.6824737515631694\n",
      "average_temperature: 0.7013558025058132\n",
      "average_temperature: 0.7177829012215933\n",
      "average_temperature: 0.7308319477135878\n",
      "average_temperature: 0.7403746484756218\n",
      "average_temperature: 0.7468115825150412\n",
      "average_temperature: 0.7492985217086211\n",
      "average_temperature: 0.7475955840651112\n",
      "average_temperature: 0.742568839132669\n",
      "average_temperature: 0.7342018080064533\n",
      "average_temperature: 0.7225289564573042\n",
      "average_temperature: 0.707882999326883\n",
      "average_temperature: 0.6906424189482371\n",
      "average_temperature: 0.6720853699477466\n",
      "average_temperature: 0.6534706220503582\n",
      "average_temperature: 0.6356721602689286\n",
      "average_temperature: 0.6190166478419159\n",
      "average_temperature: 0.6038135085711465\n",
      "average_temperature: 0.5901733325517766\n",
      "average_temperature: 0.5783060542626773\n"
     ]
    },
    {
     "name": "stdout",
     "output_type": "stream",
     "text": [
      "average_temperature: 0.5678310787455537\n",
      "average_temperature: 0.5588353324189249\n",
      "average_temperature: 0.5518251684172345\n",
      "average_temperature: 0.5476864661623764\n",
      "average_temperature: 0.5475227949469956\n",
      "average_temperature: 0.5514548985731392\n",
      "average_temperature: 0.5605830973970489\n",
      "average_temperature: 0.5751154562988577\n",
      "average_temperature: 0.5942152210416024\n",
      "average_temperature: 0.6166131888893164\n",
      "average_temperature: 0.6406969509354085\n",
      "average_temperature: 0.6640381503105461\n",
      "average_temperature: 0.6850438577546655\n",
      "average_temperature: 0.7023385495220044\n",
      "average_temperature: 0.7150579392300439\n",
      "average_temperature: 0.7232460704033992\n",
      "average_temperature: 0.7274260925527364\n",
      "average_temperature: 0.7293126959864503\n",
      "average_temperature: 0.7290330985679503\n",
      "average_temperature: 0.7267885124458526\n",
      "average_temperature: 0.7229447800168806\n",
      "average_temperature: 0.716993943680894\n",
      "average_temperature: 0.7089627012998173\n",
      "average_temperature: 0.6989350015187239\n",
      "average_temperature: 0.6878766637450979\n",
      "average_temperature: 0.6757653216602761\n",
      "average_temperature: 0.6636668400400596\n",
      "average_temperature: 0.6527479884129331\n",
      "average_temperature: 0.643848645684819\n",
      "average_temperature: 0.6372020115821501\n",
      "average_temperature: 0.6327550190558002\n",
      "average_temperature: 0.6301060778505887\n",
      "average_temperature: 0.6293794686020335\n",
      "average_temperature: 0.6304085588076079\n",
      "average_temperature: 0.6336241908168213\n",
      "average_temperature: 0.6397282594790786\n",
      "average_temperature: 0.6485464555905035\n",
      "average_temperature: 0.6598671601630095\n",
      "average_temperature: 0.6728475452548575\n",
      "average_temperature: 0.6860533321973534\n",
      "average_temperature: 0.6986536233508451\n",
      "average_temperature: 0.7094480679995718\n",
      "average_temperature: 0.718091582510985\n",
      "average_temperature: 0.7256738139589831\n",
      "average_temperature: 0.7330186250160127\n",
      "average_temperature: 0.7405029441132375\n",
      "average_temperature: 0.7483244794893512\n",
      "average_temperature: 0.7565343440341645\n",
      "average_temperature: 0.7645107658982684\n",
      "average_temperature: 0.7705612503540054\n",
      "average_temperature: 0.7730733360164432\n",
      "average_temperature: 0.7712528657188072\n",
      "average_temperature: 0.765034629198636\n",
      "average_temperature: 0.7539355021164585\n",
      "average_temperature: 0.7381142082138435\n",
      "average_temperature: 0.7184345355402073\n",
      "average_temperature: 0.6963641681578884\n",
      "average_temperature: 0.6733302847182406\n",
      "average_temperature: 0.6509995665603867\n",
      "average_temperature: 0.6303213645710158\n",
      "average_temperature: 0.6117703135386868\n",
      "average_temperature: 0.5951482777134596\n",
      "average_temperature: 0.5799510259373005\n",
      "average_temperature: 0.5666107362367354\n",
      "average_temperature: 0.5562684468570954\n",
      "average_temperature: 0.5500163550098907\n",
      "average_temperature: 0.5482738707428643\n",
      "average_temperature: 0.5515259243201927\n",
      "average_temperature: 0.5591886110948484\n",
      "average_temperature: 0.5701007133783104\n",
      "average_temperature: 0.5830100968754744\n",
      "average_temperature: 0.5965196395603111\n",
      "average_temperature: 0.6096262155926786\n",
      "average_temperature: 0.6223823441826545\n",
      "average_temperature: 0.6345021490582495\n",
      "average_temperature: 0.6466038472502886\n",
      "average_temperature: 0.659966309312608\n",
      "average_temperature: 0.673766979428956\n",
      "average_temperature: 0.6875537537969875\n",
      "average_temperature: 0.7009612383968089\n",
      "average_temperature: 0.7135087890328543\n",
      "average_temperature: 0.7246661247821149\n",
      "average_temperature: 0.7337859702743252\n",
      "average_temperature: 0.7399056465288651\n",
      "average_temperature: 0.7429210603133649\n",
      "average_temperature: 0.7422255608145449\n",
      "average_temperature: 0.7374629018955903\n",
      "average_temperature: 0.7292264784914191\n",
      "average_temperature: 0.718316147600663\n",
      "average_temperature: 0.705628139537062\n",
      "average_temperature: 0.6919306277853514\n",
      "average_temperature: 0.677623555076589\n",
      "average_temperature: 0.6632467743377642\n",
      "average_temperature: 0.6488280367345757\n",
      "average_temperature: 0.6347736255776495\n",
      "average_temperature: 0.6220484249801302\n",
      "average_temperature: 0.6120573468864849\n",
      "average_temperature: 0.6054655085760324\n",
      "average_temperature: 0.6036282998638403\n",
      "average_temperature: 0.6067223966498524\n",
      "average_temperature: 0.615144377146268\n",
      "average_temperature: 0.6280292352855866\n",
      "average_temperature: 0.6439666841461528\n",
      "average_temperature: 0.6611253780131678\n",
      "average_temperature: 0.6784225749808095\n",
      "average_temperature: 0.6944448815968758\n",
      "average_temperature: 0.7077582758836177\n",
      "average_temperature: 0.717783060937984\n",
      "average_temperature: 0.7250765153704626\n",
      "average_temperature: 0.7295744678026166\n",
      "average_temperature: 0.7313445176375865\n",
      "average_temperature: 0.7310521802780886\n",
      "average_temperature: 0.728801811070742\n",
      "average_temperature: 0.7242838426312094\n",
      "average_temperature: 0.7169196030460068\n",
      "average_temperature: 0.7064072065144831\n",
      "average_temperature: 0.6923240583568304\n",
      "average_temperature: 0.6762389753531022\n",
      "average_temperature: 0.6599761775453108\n",
      "average_temperature: 0.6463777027485422\n",
      "average_temperature: 0.6381268294359332\n",
      "average_temperature: 0.6360163148067416\n",
      "average_temperature: 0.6390176146457196\n",
      "average_temperature: 0.6449301766496411\n",
      "average_temperature: 0.650848834843347\n",
      "average_temperature: 0.6548249871612833\n",
      "average_temperature: 0.6561348427090568\n",
      "average_temperature: 0.6547076465783533\n",
      "average_temperature: 0.6512053692620888\n",
      "average_temperature: 0.6464309758982801\n",
      "average_temperature: 0.6412011419711073\n",
      "average_temperature: 0.6363016586619714\n",
      "average_temperature: 0.6317955905275657\n",
      "average_temperature: 0.6279062144693945\n",
      "average_temperature: 0.6253932306674811\n",
      "average_temperature: 0.6249270456118389\n",
      "average_temperature: 0.6260420667420928\n",
      "average_temperature: 0.6284158915982593\n",
      "average_temperature: 0.6316587417535998\n",
      "average_temperature: 0.6351126832669864\n",
      "average_temperature: 0.6384042164655697\n",
      "average_temperature: 0.6411043940023602\n",
      "average_temperature: 0.643146700446004\n",
      "average_temperature: 0.6432680429992553\n",
      "average_temperature: 0.6415370733175995\n",
      "average_temperature: 0.6382498414865886\n",
      "average_temperature: 0.6340063012793533\n",
      "average_temperature: 0.6291322997157138\n",
      "average_temperature: 0.6245751428160017\n",
      "average_temperature: 0.6213651450349729\n",
      "average_temperature: 0.6201231869277066\n",
      "average_temperature: 0.6207017387818128\n"
     ]
    },
    {
     "name": "stderr",
     "output_type": "stream",
     "text": [
      "/home/juandaanieel/c/TUDelft/AP_master/semester2/CP/project_1/repository/Project-1_compphys_bot_juandaanieel_kwo/examples/simulation/observables.py:141: RuntimeWarning: invalid value encountered in double_scalars\n",
      "  autocorrelation = ((N-time)*np.sum(A_n*A_nt)-np.sum(A_n)*np.sum(A_nt))/(sigma_A_n*sigma_A_nt)\n"
     ]
    }
   ],
   "source": [
    "sigma, epsilon, mass = sk.argon_parameters()\n",
    "#Pressure values done with 2 unit cells per direction\n",
    "#rho=0.88, T=1.095, size=3.313, predicted=3.48\n",
    "#rho=0.85, T=2.889, size=3.351, predicted=4.36\n",
    "#rho=0.75, T=2.849, size=3.494, predicted=3.10\n",
    "#rho=0.65, T=1.585, size=3.665, predicted=1.25\n",
    "#rho=0.55, T=2.645, size=3.875, predicted=1.63\n",
    "#rho=0.45, T=4.625, size=4.143, predicted=1.68\n",
    "\n",
    "size = 3.313\n",
    "t_step = 1e-15\n",
    "temp = 100\n",
    "desired_T = 1.09\n",
    "steps = 10000\n",
    "relax_steps = 10\n",
    "\n",
    "verlet_data, verlet_energy, verlet_obs = verlet_simulation(step=t_step,\n",
    "                                                           steps=steps,\n",
    "                                                           sigma=sigma,\n",
    "                                                           epsilon=epsilon,\n",
    "                                                           mass=mass,\n",
    "                                                           temp=temp,\n",
    "                                                           desired_temp=desired_T,\n",
    "                                                           box_size=size,\n",
    "                                                           relax_steps=relax_steps)"
   ]
  },
  {
   "cell_type": "code",
   "execution_count": 11,
   "metadata": {},
   "outputs": [],
   "source": [
    "kinetic = verlet_energy[0]\n",
    "potential = verlet_energy[1]\n",
    "total_energy = kinetic + potential\n",
    "pressure = verlet_obs[0][0]\n",
    "af_pressure = verlet_obs[0][1]\n",
    "error_pressure = verlet_obs[0][2]\n",
    "diffusion = verlet_obs[1][0]\n",
    "error_diffusion = verlet_obs[1][2]\n",
    "pair_correlation = verlet_obs[2]\n",
    "n_atoms = len(verlet_data[0])\n",
    "pos = verlet_data[0]\n",
    "density = n_atoms/(size)**3"
   ]
  },
  {
   "cell_type": "code",
   "execution_count": 51,
   "metadata": {},
   "outputs": [
    {
     "data": {
      "image/png": "[encoded data removed]",
      "text/plain": [
       "<Figure size 432x288 with 1 Axes>"
      ]
     },
     "metadata": {
      "needs_background": "light"
     },
     "output_type": "display_data"
    }
   ],
   "source": [
    "#sixth value\n",
    "fig = plt.figure()\n",
    "ax4 = fig.add_subplot()\n",
    "ax4.errorbar(range(len(pressure)), \n",
    "             pressure/(density),\n",
    "             yerr=error_pressure,\n",
    "             ecolor='red',\n",
    "             errorevery=10,\n",
    "             lw=2)\n",
    "ax4.set_title(\"Pressure: rho=\"+str(round(density,2))+\" and T=\"+str(desired_T))\n",
    "ax4.grid(True)\n",
    "plt.show()"
   ]
  },
  {
   "cell_type": "code",
   "execution_count": 52,
   "metadata": {},
   "outputs": [
    {
     "data": {
      "text/plain": [
       "2.0805736545342763"
      ]
     },
     "execution_count": 52,
     "metadata": {},
     "output_type": "execute_result"
    }
   ],
   "source": [
    "np.mean(pressure)"
   ]
  },
  {
   "cell_type": "code",
   "execution_count": 53,
   "metadata": {},
   "outputs": [
    {
     "data": {
      "text/plain": [
       "0.00016937856924650833"
      ]
     },
     "execution_count": 53,
     "metadata": {},
     "output_type": "execute_result"
    }
   ],
   "source": [
    "error_pressure"
   ]
  },
  {
   "cell_type": "code",
   "execution_count": 56,
   "metadata": {},
   "outputs": [
    {
     "data": {
      "text/plain": [
       "-23.80952380952381"
      ]
     },
     "execution_count": 56,
     "metadata": {},
     "output_type": "execute_result"
    }
   ],
   "source": [
    "100-(2.080/1.68)*100"
   ]
  },
  {
   "cell_type": "code",
   "execution_count": 41,
   "metadata": {},
   "outputs": [
    {
     "data": {
      "image/png": "[encoded data removed]",
      "text/plain": [
       "<Figure size 432x288 with 1 Axes>"
      ]
     },
     "metadata": {
      "needs_background": "light"
     },
     "output_type": "display_data"
    }
   ],
   "source": [
    "#fifth value\n",
    "fig = plt.figure()\n",
    "ax4 = fig.add_subplot()\n",
    "ax4.errorbar(range(len(pressure)), \n",
    "             pressure/(density),\n",
    "             yerr=error_pressure,\n",
    "             ecolor='red',\n",
    "             errorevery=10,\n",
    "             lw=2)\n",
    "ax4.set_title(\"Pressure: rho=\"+str(round(density,2))+\" and T=\"+str(desired_T))\n",
    "ax4.grid(True)\n",
    "plt.show()"
   ]
  },
  {
   "cell_type": "code",
   "execution_count": 42,
   "metadata": {},
   "outputs": [
    {
     "data": {
      "text/plain": [
       "1.4530641444003418"
      ]
     },
     "execution_count": 42,
     "metadata": {},
     "output_type": "execute_result"
    }
   ],
   "source": [
    "np.mean(pressure)"
   ]
  },
  {
   "cell_type": "code",
   "execution_count": 43,
   "metadata": {},
   "outputs": [
    {
     "data": {
      "text/plain": [
       "0.00020980429426216695"
      ]
     },
     "execution_count": 43,
     "metadata": {},
     "output_type": "execute_result"
    }
   ],
   "source": [
    "error_pressure"
   ]
  },
  {
   "cell_type": "code",
   "execution_count": 45,
   "metadata": {},
   "outputs": [
    {
     "data": {
      "text/plain": [
       "10.858895705521462"
      ]
     },
     "execution_count": 45,
     "metadata": {},
     "output_type": "execute_result"
    }
   ],
   "source": [
    "100-(1.453/1.63)*100"
   ]
  },
  {
   "cell_type": "code",
   "execution_count": 32,
   "metadata": {},
   "outputs": [
    {
     "data": {
      "image/png": "[encoded data removed]",
      "text/plain": [
       "<Figure size 432x288 with 1 Axes>"
      ]
     },
     "metadata": {
      "needs_background": "light"
     },
     "output_type": "display_data"
    }
   ],
   "source": [
    "#fourth value\n",
    "fig = plt.figure()\n",
    "ax4 = fig.add_subplot()\n",
    "ax4.errorbar(range(len(pressure)), \n",
    "             pressure/(density),\n",
    "             yerr=error_pressure,\n",
    "             ecolor='red',\n",
    "             errorevery=10,\n",
    "             lw=2)\n",
    "ax4.set_title(\"Pressure: rho=\"+str(round(density,2))+\" and T=\"+str(desired_T))\n",
    "ax4.grid(True)\n",
    "plt.show()"
   ]
  },
  {
   "cell_type": "code",
   "execution_count": 33,
   "metadata": {},
   "outputs": [
    {
     "data": {
      "text/plain": [
       "1.027569929157132"
      ]
     },
     "execution_count": 33,
     "metadata": {},
     "output_type": "execute_result"
    }
   ],
   "source": [
    "np.mean(pressure)"
   ]
  },
  {
   "cell_type": "code",
   "execution_count": 34,
   "metadata": {},
   "outputs": [
    {
     "data": {
      "text/plain": [
       "0.00024299078745220338"
      ]
     },
     "execution_count": 34,
     "metadata": {},
     "output_type": "execute_result"
    }
   ],
   "source": [
    "error_pressure"
   ]
  },
  {
   "cell_type": "code",
   "execution_count": 46,
   "metadata": {},
   "outputs": [
    {
     "data": {
      "text/plain": [
       "17.840000000000018"
      ]
     },
     "execution_count": 46,
     "metadata": {},
     "output_type": "execute_result"
    }
   ],
   "source": [
    "100-(1.027/1.25)*100"
   ]
  },
  {
   "cell_type": "code",
   "execution_count": 26,
   "metadata": {},
   "outputs": [
    {
     "data": {
      "image/png": "[encoded data removed]",
      "text/plain": [
       "<Figure size 432x288 with 1 Axes>"
      ]
     },
     "metadata": {
      "needs_background": "light"
     },
     "output_type": "display_data"
    }
   ],
   "source": [
    "#third value\n",
    "fig = plt.figure()\n",
    "ax4 = fig.add_subplot()\n",
    "ax4.errorbar(range(len(pressure)), \n",
    "             pressure/(density),\n",
    "             yerr=error_pressure,\n",
    "             ecolor='red',\n",
    "             errorevery=10,\n",
    "             lw=2)\n",
    "ax4.set_title(\"Pressure: rho=\"+str(round(density,2))+\" and T=\"+str(desired_T))\n",
    "ax4.grid(True)\n",
    "plt.show()"
   ]
  },
  {
   "cell_type": "code",
   "execution_count": 27,
   "metadata": {},
   "outputs": [
    {
     "data": {
      "text/plain": [
       "2.1373100831229612"
      ]
     },
     "execution_count": 27,
     "metadata": {},
     "output_type": "execute_result"
    }
   ],
   "source": [
    "np.mean(pressure)"
   ]
  },
  {
   "cell_type": "code",
   "execution_count": 28,
   "metadata": {},
   "outputs": [
    {
     "data": {
      "text/plain": [
       "0.00032218778223821375"
      ]
     },
     "execution_count": 28,
     "metadata": {},
     "output_type": "execute_result"
    }
   ],
   "source": [
    "error_pressure"
   ]
  },
  {
   "cell_type": "code",
   "execution_count": 47,
   "metadata": {},
   "outputs": [
    {
     "data": {
      "text/plain": [
       "31.064516129032256"
      ]
     },
     "execution_count": 47,
     "metadata": {},
     "output_type": "execute_result"
    }
   ],
   "source": [
    "100-(2.137/3.10)*100"
   ]
  },
  {
   "cell_type": "code",
   "execution_count": 20,
   "metadata": {},
   "outputs": [
    {
     "data": {
      "image/png": "[encoded data removed]",
      "text/plain": [
       "<Figure size 432x288 with 1 Axes>"
      ]
     },
     "metadata": {
      "needs_background": "light"
     },
     "output_type": "display_data"
    }
   ],
   "source": [
    "#second value\n",
    "fig = plt.figure()\n",
    "ax4 = fig.add_subplot()\n",
    "ax4.errorbar(range(len(pressure)), \n",
    "             pressure/(density),\n",
    "             yerr=error_pressure,\n",
    "             ecolor='red',\n",
    "             errorevery=10,\n",
    "             lw=2)\n",
    "ax4.set_title(\"Pressure: rho=\"+str(round(density,2))+\" and T=\"+str(desired_T))\n",
    "ax4.grid(True)\n",
    "plt.show()"
   ]
  },
  {
   "cell_type": "code",
   "execution_count": 21,
   "metadata": {},
   "outputs": [
    {
     "data": {
      "text/plain": [
       "2.4579424203452818"
      ]
     },
     "execution_count": 21,
     "metadata": {},
     "output_type": "execute_result"
    }
   ],
   "source": [
    "np.mean(pressure)"
   ]
  },
  {
   "cell_type": "code",
   "execution_count": 22,
   "metadata": {},
   "outputs": [
    {
     "data": {
      "text/plain": [
       "0.0003206786959545934"
      ]
     },
     "execution_count": 22,
     "metadata": {},
     "output_type": "execute_result"
    }
   ],
   "source": [
    "error_pressure"
   ]
  },
  {
   "cell_type": "code",
   "execution_count": 48,
   "metadata": {},
   "outputs": [
    {
     "data": {
      "text/plain": [
       "43.64678899082569"
      ]
     },
     "execution_count": 48,
     "metadata": {},
     "output_type": "execute_result"
    }
   ],
   "source": [
    "100-(2.457/4.36)*100"
   ]
  },
  {
   "cell_type": "code",
   "execution_count": 7,
   "metadata": {},
   "outputs": [
    {
     "data": {
      "image/png": "[encoded data removed]",
      "text/plain": [
       "<Figure size 432x288 with 1 Axes>"
      ]
     },
     "metadata": {
      "needs_background": "light"
     },
     "output_type": "display_data"
    }
   ],
   "source": [
    "#first value\n",
    "fig = plt.figure()\n",
    "ax4 = fig.add_subplot()\n",
    "ax4.errorbar(range(len(pressure)), \n",
    "             pressure/(density),\n",
    "             yerr=error_pressure,\n",
    "             ecolor='red',\n",
    "             errorevery=10,\n",
    "             lw=2)\n",
    "ax4.set_title(\"Pressure: rho=\"+str(round(density,2))+\" and T=\"+str(desired_T))\n",
    "ax4.grid(True)\n",
    "plt.show()"
   ]
  },
  {
   "cell_type": "code",
   "execution_count": 8,
   "metadata": {},
   "outputs": [
    {
     "data": {
      "text/plain": [
       "0.9546052991602225"
      ]
     },
     "execution_count": 8,
     "metadata": {},
     "output_type": "execute_result"
    }
   ],
   "source": [
    "np.mean(pressure)"
   ]
  },
  {
   "cell_type": "code",
   "execution_count": 9,
   "metadata": {},
   "outputs": [
    {
     "data": {
      "text/plain": [
       "0.0001733864125614049"
      ]
     },
     "execution_count": 9,
     "metadata": {},
     "output_type": "execute_result"
    }
   ],
   "source": [
    "error_pressure"
   ]
  },
  {
   "cell_type": "code",
   "execution_count": 10,
   "metadata": {},
   "outputs": [
    {
     "data": {
      "text/plain": [
       "72.58620689655173"
      ]
     },
     "execution_count": 10,
     "metadata": {},
     "output_type": "execute_result"
    }
   ],
   "source": [
    "100-(0.954/3.48)*100"
   ]
  },
  {
   "cell_type": "code",
   "execution_count": 13,
   "metadata": {},
   "outputs": [
    {
     "data": {
      "image/png": "[encoded data removed]",
      "text/plain": [
       "<Figure size 432x288 with 1 Axes>"
      ]
     },
     "metadata": {
      "needs_background": "light"
     },
     "output_type": "display_data"
    }
   ],
   "source": [
    "#autocorrelation function\n",
    "fig = plt.figure()\n",
    "ax4 = fig.add_subplot()\n",
    "ax4.plot(range(len(af_pressure)-1), \n",
    "             af_pressure[1:])\n",
    "ax4.set_title(\"Pressure: rho=\"+str(round(density,2))+\" and T=\"+str(desired_T))\n",
    "ax4.grid(True)\n",
    "plt.show()"
   ]
  },
  {
   "cell_type": "code",
   "execution_count": null,
   "metadata": {},
   "outputs": [],
   "source": []
  }
 ],
 "metadata": {
  "kernelspec": {
   "display_name": "Python 3",
   "language": "python",
   "name": "python3"
  },
  "language_info": {
   "codemirror_mode": {
    "name": "ipython",
    "version": 3
   },
   "file_extension": ".py",
   "mimetype": "text/x-python",
   "name": "python",
   "nbconvert_exporter": "python",
   "pygments_lexer": "ipython3",
   "version": "3.8.2"
  }
 },
 "nbformat": 4,
 "nbformat_minor": 4
}
